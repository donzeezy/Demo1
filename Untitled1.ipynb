{
  "nbformat": 4,
  "nbformat_minor": 0,
  "metadata": {
    "colab": {
      "provenance": [],
      "toc_visible": true,
      "authorship_tag": "ABX9TyN+7g3AjsjuVSFMdFeZAy74",
      "include_colab_link": true
    },
    "kernelspec": {
      "name": "python3",
      "display_name": "Python 3"
    },
    "language_info": {
      "name": "python"
    }
  },
  "cells": [
    {
      "cell_type": "markdown",
      "metadata": {
        "id": "view-in-github",
        "colab_type": "text"
      },
      "source": [
        "<a href=\"https://colab.research.google.com/github/donzeezy/Demo1/blob/main/Untitled1.ipynb\" target=\"_parent\"><img src=\"https://colab.research.google.com/assets/colab-badge.svg\" alt=\"Open In Colab\"/></a>"
      ]
    },
    {
      "cell_type": "code",
      "execution_count": null,
      "metadata": {
        "id": "VP3lkrc4D3Tn"
      },
      "outputs": [],
      "source": [
        "def ConstBoard(board):\n",
        "  print(\"Current state of the Board: \\n\\n\") #create some spacing\n",
        "def main():\n",
        "  choice = input(\"Enter 1 for Single Player, 2 for Multiplayer:\");   #creating input for single player and multi player\n",
        "  choice = int(choice);   #converting strings to interger\n",
        "  board = [0, 0, 0, 0, 0, 0, 0, 0, 0,] #creating container for input representing each position by 0\n",
        "  if(choice==1):\n",
        "    print(\"Computer: 0 Vrs. You: X\")  #by declaring as a single player, we have to assign O to ai and X to human\n",
        "    player = input(\"Enter to play 1(st) or 2(nd):\"); #telling the player whether he would play first\n",
        "    player = int(player); #converting strings player to int\n",
        "    for i in range (0,9): #is used to iterate from 0 to 9\n",
        "      if (analyzeboard(board) !=0): #create a function\"analyzeboard\" to check if somone has won the game # 0 means draw\n",
        "         break; #end the game if someone has won\n",
        "      if ((i+player)%2==0): #checking whether is the ai or the player will play first\n",
        "           CompTurn(board); #computers turn\n",
        "      else:\n",
        "           ConstBoard(board); #print the entire board for the user\n",
        "           User1Turn(board);   #take the input from the user\n",
        "\n",
        "   else:\n",
        "    for i in range (0,9): #is used to iterate from 0 to 9\n",
        "      if (analyzeboard(board) !=0): #create a function\"analyzeboard\" to check if somone has won the game # 0 means draw\n",
        "         break; #end the game if someone has won\n",
        "      if (i%2==0): #checking whether is the ai or the player will play first\n",
        "           ConstBoard(board); #user 1 turn\n",
        "           User1Turn(board);\n",
        "      else:\n",
        "           ConstBoard(board); #print the entire board for the user\n",
        "           User2Turn(board);   # take the input from the user 2\n",
        "\n",
        "  x = analyzeboard(board);\n",
        "   if (x==0);\n",
        "     ConstBoard(board);\n",
        "     print(\"draw!\");\n",
        "   if (x==-1);\n",
        "     ConstBoard(board);\n",
        "     print(\"player X wins!!! O lose!!!\");\n",
        "   if (x==1);\n",
        "     ConstBoard(board);\n",
        "     print(\"player O wins!!! O lose!!!\");\n",
        "\n",
        "\n"
      ]
    }
  ]
}