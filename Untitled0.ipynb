{
  "nbformat": 4,
  "nbformat_minor": 0,
  "metadata": {
    "colab": {
      "provenance": [],
      "authorship_tag": "ABX9TyNuntrstJYKz63QYDJiFJqy",
      "include_colab_link": true
    },
    "kernelspec": {
      "name": "python3",
      "display_name": "Python 3"
    },
    "language_info": {
      "name": "python"
    }
  },
  "cells": [
    {
      "cell_type": "markdown",
      "metadata": {
        "id": "view-in-github",
        "colab_type": "text"
      },
      "source": [
        "<a href=\"https://colab.research.google.com/github/donzeezy/Demo1/blob/main/Untitled0.ipynb\" target=\"_parent\"><img src=\"https://colab.research.google.com/assets/colab-badge.svg\" alt=\"Open In Colab\"/></a>"
      ]
    },
    {
      "cell_type": "code",
      "execution_count": null,
      "metadata": {
        "id": "3HjdBrLyVotA"
      },
      "outputs": [],
      "source": [
        "def spam():\n",
        "  print(egg)\n",
        "egg = 420\n",
        "spam()\n",
        "print(eg)"
      ]
    },
    {
      "cell_type": "code",
      "source": [
        "def collatz(number):\n",
        "    while number != 1:\n",
        "        if number % 2 == 0:  # If the number is even\n",
        "            number = number // 2\n",
        "        else:  # If the number is odd\n",
        "            number = 3 * number + 1\n",
        "        print(number)\n",
        "    return number\n",
        "\n",
        "def main():\n",
        "    try:\n",
        "        user_input = int(input(\"Enter an integer: \"))\n",
        "        result = collatz(user_input)\n",
        "        print(\"The Collatz sequence reached 1.\")\n",
        "\n",
        "    except ValueError:\n",
        "        print(\"Invalid input. Please enter an integer.\")\n",
        "\n",
        "if __name__ == \"__main__\":\n",
        "    main()\n"
      ],
      "metadata": {
        "id": "WJ7lBce4H9sC",
        "outputId": "243631c4-64b7-4574-fb57-714d5a67b5c4",
        "colab": {
          "base_uri": "https://localhost:8080/"
        }
      },
      "execution_count": null,
      "outputs": [
        {
          "output_type": "stream",
          "name": "stdout",
          "text": [
            "Enter an integer: 3\n",
            "10\n",
            "5\n",
            "16\n",
            "8\n",
            "4\n",
            "2\n",
            "1\n",
            "The Collatz sequence reached 1.\n"
          ]
        }
      ]
    }
  ]
}